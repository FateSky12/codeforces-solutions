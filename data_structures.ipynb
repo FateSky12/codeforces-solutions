{
 "cells": [
  {
   "cell_type": "code",
   "execution_count": 1,
   "metadata": {},
   "outputs": [
    {
     "name": "stdout",
     "output_type": "stream",
     "text": [
      "9\n"
     ]
    }
   ],
   "source": [
    "# 树状数组\n",
    "from typing import List\n",
    "\n",
    "class NumArray:\n",
    "    __slots__ = 'nums', 'tree'\n",
    "\n",
    "    def __init__(self, nums: List[int]):\n",
    "        n = len(nums)\n",
    "        # tree是树状数组，索引0处不存放数字，数组从索引1开始\n",
    "        # tree[i]存放的是[i-lowbit(i)+1, i]的区间和\n",
    "        tree = [0] * (n + 1) \n",
    "        for i, x in enumerate(nums, 1):  # i 从 1 开始\n",
    "            tree[i] += x\n",
    "            nxt = i + (i & -i)  # 下一个关键区间的右端点\n",
    "            if nxt <= n:\n",
    "                tree[nxt] += tree[i]\n",
    "        self.nums = nums\n",
    "        self.tree = tree\n",
    "\n",
    "    def update(self, index: int, val: int) -> None:\n",
    "        delta = val - self.nums[index]\n",
    "        self.nums[index] = val\n",
    "        i = index + 1\n",
    "        while i < len(self.tree):\n",
    "            self.tree[i] += delta\n",
    "            # 将i更新为i+lowbit(i)，继续计算，直到i超出范围\n",
    "            i += i & -i\n",
    "\n",
    "    def prefixSum(self, i: int) -> int:\n",
    "        s = 0\n",
    "        while i:\n",
    "            s += self.tree[i]\n",
    "            # 将i更新为i-lowbit(i)，继续计算，直到i为0\n",
    "            i &= i - 1  # i -= i & -i 的另一种写法\n",
    "        return s\n",
    "\n",
    "    def sumRange(self, left: int, right: int) -> int:\n",
    "        return self.prefixSum(right + 1) - self.prefixSum(left)\n",
    "\n",
    "nums = [1, 2, 3, 4, 5, 6]\n",
    "na = NumArray(nums)\n",
    "print(na.sumRange(1, 3))  # 9, 2 + 3 + 4"
   ]
  },
  {
   "cell_type": "code",
   "execution_count": 8,
   "metadata": {},
   "outputs": [
    {
     "name": "stdout",
     "output_type": "stream",
     "text": [
      "test\n"
     ]
    }
   ],
   "source": [
    "from io import StringIO\n",
    "import sys\n",
    "\n",
    "inp = '''test'''\n",
    "sys.stdin = StringIO(inp)\n",
    "\n",
    "a = input()\n",
    "print(a)"
   ]
  },
  {
   "cell_type": "code",
   "execution_count": null,
   "metadata": {},
   "outputs": [],
   "source": []
  }
 ],
 "metadata": {
  "kernelspec": {
   "display_name": "Python 3",
   "language": "python",
   "name": "python3"
  },
  "language_info": {
   "codemirror_mode": {
    "name": "ipython",
    "version": 3
   },
   "file_extension": ".py",
   "mimetype": "text/x-python",
   "name": "python",
   "nbconvert_exporter": "python",
   "pygments_lexer": "ipython3",
   "version": "3.10.12"
  }
 },
 "nbformat": 4,
 "nbformat_minor": 2
}
